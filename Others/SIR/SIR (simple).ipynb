{
  "cells": [
    {
      "attachments": {},
      "cell_type": "markdown",
      "metadata": {
        "id": "gktvs2qkrJRD"
      },
      "source": [
        "# <center>Physics-informed neural network</center>"
      ]
    },
    {
      "cell_type": "code",
      "execution_count": 17,
      "metadata": {
        "id": "tqomvKbgrJRF"
      },
      "outputs": [],
      "source": [
        "import torch\n",
        "import torch.nn as nn\n",
        "import matplotlib.pyplot as plt\n",
        "import random"
      ]
    },
    {
      "cell_type": "markdown",
      "metadata": {
        "id": "z2xej26arJRG"
      },
      "source": [
        "#### Red neuronal"
      ]
    },
    {
      "cell_type": "code",
      "execution_count": 18,
      "metadata": {
        "id": "S7wIMnpsrJRG"
      },
      "outputs": [],
      "source": [
        "class NeuralNetwork(nn.Module):\n",
        "\n",
        "    def __init__(self, n_layers, wide):\n",
        "        super().__init__()\n",
        "        self.inner_layers = nn.ModuleList([nn.Linear(1 if n == 0 else wide, wide)\n",
        "                                           for n in range(n_layers - 1)])\n",
        "        self.last_layer = nn.Linear(wide, 3)\n",
        "\n",
        "        def init_weights(module):\n",
        "            if isinstance(module, nn.Linear):\n",
        "                torch.nn.init.xavier_uniform_(module.weight)\n",
        "        self.apply(init_weights)\n",
        "        \n",
        "        # Parámetros del modelo SIR:\n",
        "        self.beta = nn.Parameter(torch.rand(1))\n",
        "        self.gamma = nn.Parameter(torch.rand(1))\n",
        "        self.kappa = nn.Parameter(torch.rand(1))\n",
        "    \n",
        "    def forward(self, input):\n",
        "        \n",
        "        for layer in self.inner_layers:\n",
        "            input = nn.Tanh()(layer(input))\n",
        "        input = self.last_layer(input)\n",
        "        \n",
        "        return input"
      ]
    },
    {
      "cell_type": "code",
      "execution_count": 19,
      "metadata": {
        "id": "alZxg36zrJRH"
      },
      "outputs": [],
      "source": [
        "def derivative(f, variable):\n",
        "    return torch.autograd.grad(f.sum(), variable, create_graph=True)[0]"
      ]
    },
    {
      "attachments": {},
      "cell_type": "markdown",
      "metadata": {
        "id": "uVKzn18drJRH"
      },
      "source": [
        "#### ODE"
      ]
    },
    {
      "cell_type": "code",
      "execution_count": 20,
      "metadata": {},
      "outputs": [],
      "source": [
        "from scipy.integrate import solve_ivp\n",
        "import numpy as np\n",
        "\n",
        "def generate_data(N_data, T, X0, args, noise=0.02):\n",
        "    \n",
        "    def _SIR(t, X, args):\n",
        "        beta, gamma, kappa = args\n",
        "        s, i, r = X\n",
        "        dS = - beta * s * i + kappa * r\n",
        "        dI = beta * s * i - gamma * i\n",
        "        dR = gamma * i - kappa * r\n",
        "        return (dS, dI, dR)\n",
        "    \n",
        "    solution = solve_ivp(_SIR, (0, T), X0, args=(args,), rtol=10e-10, atol=10e-10, dense_output=True)['sol']\n",
        "    t = torch.linspace(0, T, N_data)\n",
        "    ode_solution = torch.tensor(solution(t)).permute(1, 0).float()\n",
        "    noise = torch.empty(N_data, 3).normal_(noise)\n",
        "    \n",
        "    return (t.unsqueeze(1), ode_solution)# + noise)\n"
      ]
    },
    {
      "cell_type": "code",
      "execution_count": 21,
      "metadata": {
        "id": "e9Ut68S3rJRI"
      },
      "outputs": [],
      "source": [
        "def SIR(t, net):\n",
        "    s, i, r = net(t).unsqueeze(0).permute(2, 1, 0)\n",
        "    s_ode = derivative(s, t) - (- net.beta * s * i + net.kappa * r)\n",
        "    i_ode = derivative(i, t) - (net.beta * s * i - net.gamma * i)\n",
        "    r_ode = derivative(r, t) - (net.gamma * i - net.kappa * r)\n",
        "    return (s_ode, i_ode, r_ode)\n"
      ]
    },
    {
      "cell_type": "markdown",
      "metadata": {
        "id": "JR-32SwqrJRI"
      },
      "source": [
        "#### Entrenamiento"
      ]
    },
    {
      "cell_type": "code",
      "execution_count": 22,
      "metadata": {
        "id": "rO8Eb_c6rJRI"
      },
      "outputs": [],
      "source": [
        "net = NeuralNetwork(n_layers=2, wide=20)\n",
        "optimizer = torch.optim.Adam(net.parameters())"
      ]
    },
    {
      "cell_type": "code",
      "execution_count": 23,
      "metadata": {
        "colab": {
          "base_uri": "https://localhost:8080/"
        },
        "id": "J9sj-yyPrJRJ",
        "outputId": "0f2524a8-631e-4fae-a75e-1a60de67f5cc"
      },
      "outputs": [
        {
          "name": "stdout",
          "output_type": "stream",
          "text": [
            "Epoch 1000 || loss: 0.0037\n",
            "Epoch 2000 || loss: 0.0017\n",
            "Epoch 3000 || loss: 0.0010\n",
            "Epoch 4000 || loss: 0.0004\n",
            "Epoch 5000 || loss: 0.0002\n",
            "Epoch 6000 || loss: 0.0001\n",
            "Epoch 7000 || loss: 0.0000\n",
            "Epoch 8000 || loss: 0.0000\n",
            "Epoch 9000 || loss: 0.0000\n",
            "Epoch 10000 || loss: 0.0000\n"
          ]
        }
      ],
      "source": [
        "T = 5\n",
        "samples_data, samples_phys = 200, 100\n",
        "\n",
        "epochs = 10000\n",
        "weights = (0.5, 0.2, 0.3)\n",
        "\n",
        "initial_conditions = (0.9, 0.1, 0)\n",
        "args = (4, 1, 0.5)\n",
        "\n",
        "device = torch.device('cuda' if torch.cuda.is_available() else 'cpu')\n",
        "net.to(device)\n",
        "\n",
        "# Data conocida (fija):\n",
        "t_data, target_data = generate_data(samples_data, 10, initial_conditions, args)\n",
        "try:\n",
        "    loss_record = []\n",
        "    for epoch in range(1, epochs + 1):\n",
        "        optimizer.zero_grad()\n",
        "        \n",
        "        # Data conocida:\n",
        "        s_data, i_data, r_data = net(t_data).unsqueeze(0).permute(2, 1, 0)\n",
        "        output_data = torch.cat((s_data, i_data, r_data), dim=1)\n",
        "        loss_data = nn.MSELoss()(output_data, target_data)\n",
        "        \n",
        "        # Condición inicial:\n",
        "        t_initial = torch.zeros(1, 1)\n",
        "        s_initial, i_initial, r_initial = net(t_initial).unsqueeze(0).permute(2, 1, 0)\n",
        "        output_initial = torch.cat((s_initial, i_initial, r_initial), dim=1)\n",
        "        target_initial = torch.tensor(initial_conditions).expand_as(output_initial)\n",
        "        loss_initial = nn.MSELoss()(output_initial, target_initial)\n",
        "        \n",
        "        # Modelo:\n",
        "        t_phys = torch.empty(samples_phys, 1, device=device).uniform_(to=T).requires_grad_()\n",
        "        output_phys = torch.cat(SIR(t_phys, net), dim=1)\n",
        "        target_phys = torch.zeros(samples_phys, 3, device=device)\n",
        "        loss_phys = nn.MSELoss()(output_phys, target_phys)\n",
        "\n",
        "        # Optimización:\n",
        "        loss = weights[0] * loss_data + weights[1] * loss_phys + weights[2] * loss_initial\n",
        "        loss_record.append(loss.item())\n",
        "        loss.backward()\n",
        "        optimizer.step()\n",
        "        if epoch % 1000 == 0:\n",
        "            print(f'Epoch {epoch} || loss: {loss:.4f}')\n",
        "            \n",
        "except KeyboardInterrupt:\n",
        "    pass"
      ]
    },
    {
      "cell_type": "markdown",
      "metadata": {
        "id": "toJaQg9trJRJ"
      },
      "source": [
        "#### Simulación y comparación con la solución real"
      ]
    },
    {
      "cell_type": "code",
      "execution_count": 24,
      "metadata": {
        "colab": {
          "base_uri": "https://localhost:8080/",
          "height": 644
        },
        "id": "aHAXVYVHrJRJ",
        "outputId": "a45c2cc9-e860-45f7-9e12-3d652fd4f3eb"
      },
      "outputs": [
        {
          "data": {
            "image/png": "[encoded data removed]",
            "text/plain": [
              "<Figure size 432x288 with 1 Axes>"
            ]
          },
          "metadata": {
            "needs_background": "light"
          },
          "output_type": "display_data"
        },
        {
          "data": {
            "image/png": "[encoded data removed]",
            "text/plain": [
              "<Figure size 432x288 with 1 Axes>"
            ]
          },
          "metadata": {
            "needs_background": "light"
          },
          "output_type": "display_data"
        },
        {
          "name": "stdout",
          "output_type": "stream",
          "text": [
            "Beta: 3.9872\n",
            "Gamma: 0.9973\n",
            "Kappa: 0.4976\n"
          ]
        }
      ],
      "source": [
        "net.to('cpu')\n",
        "net.eval()\n",
        "\n",
        "# Entrenamiento:\n",
        "plt.plot(torch.arange(1, len(loss_record) + 1), loss_record, label='loss')\n",
        "plt.legend()\n",
        "plt.show()\n",
        "\n",
        "# Simulación:\n",
        "\n",
        "t = torch.linspace(0, T, 100).unsqueeze(1)\n",
        "s, i, r = net(t).unsqueeze(0).permute(2, 1, 0).detach()\n",
        "\n",
        "values = {'susceptibles': s,\n",
        "          'infectados': i,\n",
        "          'recuperados': r}\n",
        "\n",
        "for f in ('susceptibles', 'infectados', 'recuperados'):\n",
        "    plt.plot(t, values[f], label=f)\n",
        "plt.legend()\n",
        "plt.show()\n",
        "\n",
        "# Parámetros:\n",
        "print(f'Beta: {net.beta.item():.4f}')\n",
        "print(f'Gamma: {net.gamma.item():.4f}')\n",
        "print(f'Kappa: {net.kappa.item():.4f}')\n"
      ]
    }
  ],
  "metadata": {
    "accelerator": "GPU",
    "colab": {
      "provenance": []
    },
    "gpuClass": "standard",
    "kernelspec": {
      "display_name": "Python 3",
      "language": "python",
      "name": "python3"
    },
    "language_info": {
      "codemirror_mode": {
        "name": "ipython",
        "version": 3
      },
      "file_extension": ".py",
      "mimetype": "text/x-python",
      "name": "python",
      "nbconvert_exporter": "python",
      "pygments_lexer": "ipython3",
      "version": "3.10.2"
    },
    "vscode": {
      "interpreter": {
        "hash": "aee8b7b246df8f9039afb4144a1f6fd8d2ca17a180786b69acc140d282b71a49"
      }
    }
  },
  "nbformat": 4,
  "nbformat_minor": 0
}
