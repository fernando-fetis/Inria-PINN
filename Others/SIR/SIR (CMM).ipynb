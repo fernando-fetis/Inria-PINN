{
  "cells": [
    {
      "cell_type": "markdown",
      "metadata": {
        "id": "gktvs2qkrJRD"
      },
      "source": [
        "# <center>Physics-informed neural network</center>"
      ]
    },
    {
      "cell_type": "code",
      "execution_count": 1,
      "metadata": {
        "id": "tqomvKbgrJRF"
      },
      "outputs": [],
      "source": [
        "import torch\n",
        "import torch.nn as nn\n",
        "import matplotlib.pyplot as plt\n",
        "import random"
      ]
    },
    {
      "cell_type": "markdown",
      "metadata": {
        "id": "z2xej26arJRG"
      },
      "source": [
        "#### Red neuronal"
      ]
    },
    {
      "cell_type": "code",
      "execution_count": 2,
      "metadata": {
        "id": "S7wIMnpsrJRG"
      },
      "outputs": [],
      "source": [
        "class NeuralNetwork(nn.Module):\n",
        "\n",
        "    def __init__(self, n_layers, wide):\n",
        "        super().__init__()\n",
        "        self.inner_layers = nn.ModuleList([nn.Linear(1 if n == 0 else wide, wide)\n",
        "                                           for n in range(n_layers - 1)])\n",
        "        self.last_layer = nn.Linear(wide, 6 + 1)\n",
        "        \n",
        "        # Parámetros del modelo SIR:\n",
        "        self.gamma = nn.Parameter(torch.rand(2))  # [asintomáticos, sintomáticos]\n",
        "        self.kappa = nn.Parameter(torch.rand(2))  # [asintomáticos, sintomáticos]\n",
        "        self.delta = nn.Parameter(torch.rand(1))\n",
        "        self.phi = nn.Parameter(torch.rand(1))\n",
        "    \n",
        "    def forward(self, input):\n",
        "        \n",
        "        for layer in self.inner_layers:\n",
        "            input = nn.ReLU()(layer(input))\n",
        "        input = self.last_layer(input)\n",
        "        \n",
        "        return input"
      ]
    },
    {
      "cell_type": "code",
      "execution_count": 3,
      "metadata": {
        "id": "alZxg36zrJRH"
      },
      "outputs": [],
      "source": [
        "def derivative(f, variable):\n",
        "    return torch.autograd.grad(f.sum(), variable, create_graph=True)[0]"
      ]
    },
    {
      "cell_type": "markdown",
      "metadata": {
        "id": "uVKzn18drJRH"
      },
      "source": [
        "#### ODE"
      ]
    },
    {
      "cell_type": "code",
      "execution_count": 4,
      "metadata": {
        "id": "N8bdvFFhMVmv"
      },
      "outputs": [],
      "source": [
        "from scipy.integrate import solve_ivp\n",
        "import numpy as np\n",
        "\n",
        "def generate_data(N_data, T, X0, args, noise = 0.02):\n",
        "    def _SAIRD(t, X, args):\n",
        "        # phi: Probability of being asymptomatic\n",
        "        # Lambda: Infection rate\n",
        "        # gammaA: Recovery rate for asymptomatic case\n",
        "        # gammaS: Recovery rate for symptomatic case\n",
        "        # delta: Death rate\n",
        "        # kappaA: Inmunity loss rate for asymptomatic case\n",
        "        # kappaS: Inmunity loss rate for symptomatic case\n",
        "        phi, Lambda, gammaA, gammaS, delta, kappaA, kappaS = args\n",
        "        S, Ia, Is, Ra, Rs, D = X\n",
        "        dS = -Lambda(t)*(Ia+Is)*S + kappaA*Ra + kappaS*Rs\n",
        "        dIa = phi*Lambda(t)*S*(Ia+Is) - gammaA*Ia\n",
        "        dIs = (1-phi)*Lambda(t)*S*(Ia+Is) - gammaS*Is - delta*Is\n",
        "        dRa = gammaA*Ia - kappaA*Ra\n",
        "        dRs = gammaS*Is - kappaS*Rs\n",
        "        dD  = delta*Is\n",
        "        return (dS, dIa, dIs, dRa, dRs, dD)\n",
        "    solution = solve_ivp(_SAIRD, (0, T), X0[:-1], args = (args,), rtol = 10e-10, atol = 10e-10, dense_output = True)[\"sol\"]\n",
        "    t = torch.linspace(0, T, N_data)\n",
        "    ode_solution = torch.tensor(solution(t)).permute(1, 0).float()\n",
        "    noise = torch.empty(N_data, 3).normal_(noise)\n",
        "    phi, Lambda, gammaA, gammaS, delta, kappaA, kappaS = args\n",
        "    L = Lambda(t).unsqueeze(1)\n",
        "    res_ode_sol = torch.cat([ode_solution, L], axis = 1)\n",
        "    return (t.unsqueeze(1), res_ode_sol)# + noise)\n",
        "\n",
        "def Lambda(t):\n",
        "    return 1 - 1/(1+np.exp(-t))"
      ]
    },
    {
      "cell_type": "code",
      "execution_count": 5,
      "metadata": {
        "id": "e9Ut68S3rJRI"
      },
      "outputs": [],
      "source": [
        "def SIR(t, net):\n",
        "    \n",
        "    s, i_a, i_s, r_a, r_s, d, lambd = net(t).unsqueeze(0).permute(2, 1, 0)\n",
        "    \n",
        "    s_ode = derivative(s, t) - (- lambd * s * (i_a + i_s) + net.kappa[0] * r_a + net.kappa[1] * r_s)\n",
        "    i_a_ode = derivative(i_a, t) - (net.phi * lambd * s * (i_a + i_s) - net.gamma[0] * i_a)\n",
        "    i_s_ode = derivative(i_s, t) - ((1 - net.phi) * lambd * s * (i_a + i_s) - net.gamma[1] * i_s - net.delta * i_s)\n",
        "    r_a_ode = derivative(r_a, t) - (net.gamma[0] * i_a - net.kappa[0] * r_a)\n",
        "    r_s_ode = derivative(r_s, t) - (net.gamma[1] * i_s - net.kappa[1] * r_s)\n",
        "    d_ode = derivative(d, t) - (net.delta * i_s)\n",
        "    \n",
        "    return (s_ode, i_a_ode, i_s_ode, r_a_ode, r_s_ode, d_ode, lambd)\n"
      ]
    },
    {
      "cell_type": "markdown",
      "metadata": {
        "id": "JR-32SwqrJRI"
      },
      "source": [
        "#### Entrenamiento"
      ]
    },
    {
      "cell_type": "code",
      "execution_count": 6,
      "metadata": {
        "id": "rO8Eb_c6rJRI"
      },
      "outputs": [],
      "source": [
        "net = NeuralNetwork(n_layers=8, wide=500)\n",
        "optimizer = torch.optim.Adam(net.parameters())"
      ]
    },
    {
      "cell_type": "code",
      "execution_count": 7,
      "metadata": {
        "colab": {
          "base_uri": "https://localhost:8080/"
        },
        "id": "J9sj-yyPrJRJ",
        "outputId": "6788b8bd-f159-4e9e-9e88-3501e392f2a6"
      },
      "outputs": [
        {
          "name": "stdout",
          "output_type": "stream",
          "text": [
            "Epoch 1000 || loss: 0.0108\n",
            "Epoch 2000 || loss: 0.0157\n",
            "Epoch 3000 || loss: 0.0206\n"
          ]
        },
        {
          "data": {
            "text/plain": [
              "<All keys matched successfully>"
            ]
          },
          "execution_count": 7,
          "metadata": {},
          "output_type": "execute_result"
        }
      ],
      "source": [
        "from torch.utils.data import TensorDataset, DataLoader\n",
        "\n",
        "# Parámetros del modelo:\n",
        "T = 5\n",
        "initial_conditions = (0.9, 0.05, 0.05, 0, 0, 0, Lambda(0))\n",
        "args = (0.1, Lambda, 3, 1, 0.01, 0.01, 2)\n",
        "\n",
        "# Parámetros de entrenamiento:\n",
        "samples_data, samples_phys = 200, 100\n",
        "epochs = 10000\n",
        "early_stopping = int(epochs/100)\n",
        "weights = {'data': 5, 'initial': 4, 'physics': 8}\n",
        "\n",
        "# Data de entrenamiento (conocida):\n",
        "t_data, target_data = generate_data(samples_data, T, initial_conditions, args)\n",
        "\n",
        "\n",
        "# ! ENTRENAMIENTO ----------------------------\n",
        "\n",
        "device = torch.device('cuda' if torch.cuda.is_available() else 'cpu')\n",
        "net.to(device)\n",
        "\n",
        "try:\n",
        "    dataset = TensorDataset(t_data, target_data)\n",
        "    dataloader = DataLoader(dataset, batch_size=64, shuffle=True)\n",
        "\n",
        "    loss_record, patience = [], 0\n",
        "\n",
        "    for epoch in range(1, epochs + 1):\n",
        "        epoch_loss = 0\n",
        "\n",
        "        for t_data, target_data in dataloader:\n",
        "            t_data, target_data = t_data.to(device), target_data.to(device)\n",
        "            optimizer.zero_grad()\n",
        "            \n",
        "            # Data conocida:\n",
        "            s_data, i_a_data, i_s_data, r_a_data, r_s_data, d_data, lambd = net(t_data).unsqueeze(0).permute(2, 1, 0)\n",
        "            output_data = torch.cat((s_data, i_a_data, i_s_data, r_a_data, r_s_data, d_data, lambd), dim=1)\n",
        "            loss_data = nn.MSELoss()(output_data, target_data)\n",
        "\n",
        "            # Condición inicial:\n",
        "            t_initial = torch.zeros(1, 1, device=device)\n",
        "            s_initial, i_a_initial, i_s_initial, r_a_initial, r_s_initial, d_initial, lambd_initial = net(t_initial).unsqueeze(0).permute(2, 1, 0)\n",
        "            output_initial = torch.cat((s_initial, i_a_initial, i_s_initial, r_a_initial, r_s_initial, d_initial, lambd_initial), dim=1).float()\n",
        "            target_initial = torch.tensor(initial_conditions, device=device).expand_as(output_initial).float()\n",
        "            loss_initial = nn.MSELoss()(output_initial, target_initial)\n",
        "\n",
        "            # Modelo:\n",
        "            t_phys = torch.empty(samples_phys, 1, device=device).uniform_(to=T).requires_grad_()\n",
        "            output_phys = torch.cat(SIR(t_phys, net), dim=1)\n",
        "            target_phys = torch.zeros(samples_phys, net.last_layer.out_features, device=device)\n",
        "            loss_phys = nn.MSELoss()(output_phys, target_phys)\n",
        "\n",
        "            # Optimización:\n",
        "            loss = weights['data'] * loss_data + weights['initial'] * loss_initial + weights['physics'] * loss_phys\n",
        "            epoch_loss += loss.item()\n",
        "            loss.backward()\n",
        "            optimizer.step()\n",
        "        \n",
        "        loss_record.append(epoch_loss/len(dataloader))\n",
        "\n",
        "        if epoch % 1000 == 0:\n",
        "            print(f'Epoch {epoch} || loss: {loss:.4f}')\n",
        "        \n",
        "        # Early stopping:\n",
        "        if (epoch > 2) and (loss < loss_record[epoch-1] + 1e-3):\n",
        "            best_model = {'state': net.state_dict(), 'epoch': epoch}\n",
        "            patience = 0\n",
        "        elif patience == early_stopping:\n",
        "            print(f'Early stopping in epoch {epoch}.')\n",
        "            break\n",
        "        else:\n",
        "            patience += 1\n",
        "            \n",
        "except KeyboardInterrupt:\n",
        "    pass\n",
        "\n",
        "last_model = net.state_dict()\n",
        "net.load_state_dict(best_model['state'])"
      ]
    },
    {
      "cell_type": "markdown",
      "metadata": {
        "id": "toJaQg9trJRJ"
      },
      "source": [
        "#### Simulación y comparación con la solución real"
      ]
    },
    {
      "cell_type": "code",
      "execution_count": 11,
      "metadata": {
        "colab": {
          "base_uri": "https://localhost:8080/",
          "height": 636
        },
        "id": "aHAXVYVHrJRJ",
        "outputId": "d581f907-a61c-4634-9757-58242d7cbbcd"
      },
      "outputs": [
        {
          "data": {
            "image/png": "[encoded data removed]",
            "text/plain": [
              "<Figure size 432x288 with 1 Axes>"
            ]
          },
          "metadata": {
            "needs_background": "light"
          },
          "output_type": "display_data"
        },
        {
          "data": {
            "image/png": "[encoded data removed]",
            "text/plain": [
              "<Figure size 720x360 with 2 Axes>"
            ]
          },
          "metadata": {
            "needs_background": "light"
          },
          "output_type": "display_data"
        },
        {
          "name": "stdout",
          "output_type": "stream",
          "text": [
            "Gamma: 1.8602 | 0.7004\n",
            "Kappa: 0.0363 | 1.3911\n",
            "Phi: 0.4496\n",
            "Delta: 0.0098\n"
          ]
        }
      ],
      "source": [
        "net.to('cpu')\n",
        "net.eval()\n",
        "\n",
        "# Entrenamiento:\n",
        "plt.plot(torch.arange(1+100, len(loss_record) + 1), loss_record[100:], label='loss')\n",
        "plt.axvline(best_model['epoch'], color='k', label='best epoch', linestyle='--')\n",
        "plt.legend()\n",
        "plt.show()\n",
        "\n",
        "# Simulación:\n",
        "\n",
        "t = torch.linspace(0, T, 100).unsqueeze(1)\n",
        "s, i_a, i_s, r_a, r_s, d, lambd = net(t).unsqueeze(0).permute(2, 1, 0).detach()\n",
        "\n",
        "values = {'i_a': i_a,\n",
        "          'i_s': i_s,\n",
        "          'r_a': r_a,\n",
        "          'r_s': r_s,\n",
        "          'd': d}\n",
        "\n",
        "\n",
        "fig, ax = plt.subplots(figsize=(10, 5))\n",
        "for f in values.keys():\n",
        "    ax.plot(t, values[f], label=f)    \n",
        "\n",
        "ax_twin = ax.twinx()\n",
        "ax_twin.plot(t, lambd, label='lambda', alpha = 0.2)\n",
        "\n",
        "ax.legend()\n",
        "plt.show()\n",
        "\n",
        "# Parámetros:\n",
        "print(f'Gamma: {net.gamma[0].item():.4f} | {net.gamma[1].item():.4f}')\n",
        "print(f'Kappa: {net.kappa[0].item():.4f} | {net.kappa[1].item():.4f}')\n",
        "print(f'Phi: {net.phi.item():.4f}')\n",
        "print(f'Delta: {net.delta.item():.4f}')"
      ]
    }
  ],
  "metadata": {
    "accelerator": "GPU",
    "colab": {
      "provenance": []
    },
    "gpuClass": "standard",
    "kernelspec": {
      "display_name": "Python 3",
      "language": "python",
      "name": "python3"
    },
    "language_info": {
      "codemirror_mode": {
        "name": "ipython",
        "version": 3
      },
      "file_extension": ".py",
      "mimetype": "text/x-python",
      "name": "python",
      "nbconvert_exporter": "python",
      "pygments_lexer": "ipython3",
      "version": "3.10.2"
    },
    "vscode": {
      "interpreter": {
        "hash": "aee8b7b246df8f9039afb4144a1f6fd8d2ca17a180786b69acc140d282b71a49"
      }
    }
  },
  "nbformat": 4,
  "nbformat_minor": 0
}
