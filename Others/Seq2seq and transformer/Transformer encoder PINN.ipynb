{
  "cells": [
    {
      "cell_type": "code",
      "execution_count": 199,
      "metadata": {
        "id": "OV--c9fH46jL"
      },
      "outputs": [],
      "source": [
        "import torch\n",
        "import torch.nn as nn\n",
        "import torch.optim as optim\n",
        "\n",
        "import math\n",
        "import matplotlib.pyplot as plt\n",
        "import random\n"
      ]
    },
    {
      "cell_type": "code",
      "execution_count": 200,
      "metadata": {
        "id": "QdRsWfub46jO"
      },
      "outputs": [],
      "source": [
        "class SelfAttention(nn.Module):\n",
        "    \n",
        "    def __init__(self, d_model, dk, dv):\n",
        "        super().__init__()\n",
        "        self.Q = nn.Linear(d_model, dk)\n",
        "        self.K = nn.Linear(d_model, dk)\n",
        "        self.V = nn.Linear(d_model, dv)\n",
        "    \n",
        "    def forward(self, x):\n",
        "        dk = self.K.out_features\n",
        "        gram_matrix = self.Q(x) @ self.K(x).transpose(0, 1)\n",
        "        scores = nn.Softmax(dim=1)(gram_matrix / math.sqrt(dk))\n",
        "        self_attention = scores @ self.V(x)\n",
        "        return self_attention\n",
        "\n",
        "class MHSA(nn.Module):\n",
        "    \n",
        "    def __init__(self, heads, d_model, dk, dv):\n",
        "        super().__init__()\n",
        "        self.heads = nn.ModuleList([SelfAttention(d_model, dk, dv) for _ in range(heads)])\n",
        "        self.W0 = nn.Linear(heads*dv, d_model)\n",
        "        \n",
        "    def forward(self, x):\n",
        "        heads_output = [head(x) for head in self.heads]\n",
        "        heads_stack = torch.cat(heads_output, dim=1)\n",
        "        mhsa = self.W0(heads_stack)\n",
        "        return mhsa\n",
        "    \n",
        "class EncoderLayer(nn.Module):\n",
        "\n",
        "    def __init__(self, heads, d_model, d_ff, p, dk, dv):\n",
        "        super().__init__()\n",
        "\n",
        "        self.attention = MHSA(heads, d_model, dk, dv)\n",
        "        self.feed_forward = nn.Sequential(nn.Linear(d_model, d_ff),\n",
        "                                          nn.Tanh(),\n",
        "                                          nn.Linear(d_ff, d_model))\n",
        "        self.norm1 = nn.LayerNorm(d_model)\n",
        "        self.norm2 = nn.LayerNorm(d_model)\n",
        "        self.dropout = nn.Dropout(p)\n",
        "\n",
        "    def forward(self, x):\n",
        "        mha = self.attention(x)\n",
        "        add_norm1 = self.norm1(x + self.dropout(mha))\n",
        "        fc_output = self.feed_forward(add_norm1)\n",
        "        add_norm2 = self.norm2(add_norm1 + self.dropout(fc_output))\n",
        "        return add_norm2"
      ]
    },
    {
      "cell_type": "code",
      "execution_count": 201,
      "metadata": {
        "id": "MPH4kBwsj1f7"
      },
      "outputs": [],
      "source": [
        "class TransformerPINN(nn.Module):\n",
        "    \n",
        "    def __init__(self, input_vars, output_vars, N, heads, d_ff, p, dk, dv):\n",
        "        super().__init__()\n",
        "        self.encoder_layers = nn.ModuleList([EncoderLayer(heads, input_vars, d_ff, p, dk, dv) for _ in range(N)])\n",
        "        self.fc_output = nn.Linear(input_vars, output_vars)\n",
        "\n",
        "    def forward(self, x, y):\n",
        "        input = torch.cat([x, y], dim=1)\n",
        "        for layer in self.encoder_layers:\n",
        "            input = layer(input)\n",
        "        input = nn.Tanh()(input)\n",
        "        input = self.fc_output(input)\n",
        "        return input\n",
        "\n",
        "\n",
        "class AttentionPINN(nn.Module):\n",
        "  \n",
        "  def __init__(self, d_model, d_attn_inner, d_attn_output, d_output):\n",
        "\n",
        "    super().__init__()\n",
        "\n",
        "    self.attn1 = SelfAttention(d_model, d_attn_inner, d_attn_inner)\n",
        "    self.attn2 = SelfAttention(d_attn_inner, d_attn_inner, d_attn_output)\n",
        "    self.fc = nn.Linear(d_attn_output, d_output)\n",
        "\n",
        "  def forward(self, x, y):\n",
        "    input = torch.cat([x, y], dim=1)\n",
        "    input = nn.GELU()(self.attn1(input))\n",
        "    input = nn.GELU()(self.attn2(input))\n",
        "    input = self.fc(input)\n",
        "    return input\n"
      ]
    },
    {
      "cell_type": "code",
      "execution_count": 202,
      "metadata": {
        "id": "n1Dj36RN46jP"
      },
      "outputs": [],
      "source": [
        "def derivative(f, variable):\n",
        "    return torch.autograd.grad(f.sum(), variable, create_graph=True)[0]"
      ]
    },
    {
      "cell_type": "code",
      "execution_count": 203,
      "metadata": {
        "id": "2i1Qfk4m46jQ"
      },
      "outputs": [],
      "source": [
        "cos, sin, pi = torch.cos, torch.sin, torch.pi\n",
        "device = torch.device('cuda' if torch.cuda.is_available() else 'cpu')"
      ]
    },
    {
      "cell_type": "code",
      "execution_count": 204,
      "metadata": {
        "id": "Yzrn5uGf46jQ"
      },
      "outputs": [],
      "source": [
        "x_domain, y_domain = [-pi, pi], [-pi, pi]\n",
        "\n",
        "def pde(x, y, net):\n",
        "    u = net(x, y)\n",
        "    u_x = derivative(u, x)\n",
        "    u_xx = derivative(u_x, x)\n",
        "    u_y = derivative(u, y)\n",
        "    u_yy = derivative(u_y, y)\n",
        "    return u_xx+ u_yy + 10*cos(x + 2*y)\n",
        "\n",
        "def boundary_condition(x, y):\n",
        "    return 2*cos(x + 2*y)\n"
      ]
    },
    {
      "cell_type": "code",
      "execution_count": 205,
      "metadata": {
        "id": "Vo-kBPFjAbu4"
      },
      "outputs": [],
      "source": [
        "#net = PINN(input_vars=2, output_vars=1, N=4, heads=6, d_ff=100, p=0, dk=10, dv=10)\n",
        "net = AttentionPINN(d_model=2, d_attn_inner=5, d_attn_output=50, d_output=1)"
      ]
    },
    {
      "cell_type": "code",
      "execution_count": 206,
      "metadata": {
        "colab": {
          "base_uri": "https://localhost:8080/"
        },
        "id": "aGupdhUZ46jR",
        "outputId": "2ba0d2eb-c646-440f-ac3e-10d6eea974c6"
      },
      "outputs": [
        {
          "name": "stdout",
          "output_type": "stream",
          "text": [
            "Epoch: 100 - loss: 45.46328353881836\n",
            "Epoch: 200 - loss: 20.254688262939453\n",
            "Epoch: 300 - loss: 18.36998176574707\n",
            "Epoch: 400 - loss: 15.958542823791504\n",
            "Epoch: 500 - loss: 14.044380187988281\n",
            "Epoch: 600 - loss: 14.068785667419434\n",
            "Epoch: 700 - loss: 10.344537734985352\n",
            "Epoch: 800 - loss: 10.477113723754883\n",
            "Epoch: 900 - loss: 10.730175971984863\n",
            "Epoch: 1000 - loss: 9.467716217041016\n",
            "Epoch: 1100 - loss: 10.576520919799805\n",
            "Epoch: 1200 - loss: 9.65617561340332\n",
            "Epoch: 1300 - loss: 8.29330825805664\n",
            "Epoch: 1400 - loss: 9.40867805480957\n",
            "Epoch: 1500 - loss: 8.614184379577637\n",
            "Epoch: 1600 - loss: 7.597615718841553\n",
            "Epoch: 1700 - loss: 6.488040447235107\n",
            "Epoch: 1800 - loss: 6.953897953033447\n",
            "Epoch: 1900 - loss: 9.091598510742188\n",
            "Epoch: 2000 - loss: 6.056046962738037\n",
            "Epoch: 2100 - loss: 5.954331398010254\n",
            "Epoch: 2200 - loss: 4.753817558288574\n",
            "Epoch: 2300 - loss: 5.056840419769287\n",
            "Epoch: 2400 - loss: 4.762240409851074\n",
            "Epoch: 2500 - loss: 5.642351150512695\n",
            "Epoch: 2600 - loss: 5.582487106323242\n",
            "Epoch: 2700 - loss: 5.038260459899902\n",
            "Epoch: 2800 - loss: 5.979196548461914\n",
            "Epoch: 2900 - loss: 4.504560947418213\n",
            "Epoch: 3000 - loss: 4.792704105377197\n",
            "Epoch: 3100 - loss: 5.448424339294434\n",
            "Epoch: 3200 - loss: 3.4661734104156494\n",
            "Epoch: 3300 - loss: 3.5050721168518066\n",
            "Epoch: 3400 - loss: 3.2471866607666016\n",
            "Epoch: 3500 - loss: 4.726901531219482\n",
            "Epoch: 3600 - loss: 4.449627876281738\n",
            "Epoch: 3700 - loss: 4.094933032989502\n",
            "Epoch: 3800 - loss: 3.3766937255859375\n",
            "Epoch: 3900 - loss: 3.641122579574585\n",
            "Epoch: 4000 - loss: 4.421830654144287\n",
            "Epoch: 4100 - loss: 3.7018046379089355\n",
            "Epoch: 4200 - loss: 2.520982265472412\n",
            "Epoch: 4300 - loss: 3.531808376312256\n",
            "Epoch: 4400 - loss: 3.3149778842926025\n",
            "Epoch: 4500 - loss: 4.094940662384033\n",
            "Epoch: 4600 - loss: 2.667881727218628\n",
            "Epoch: 4700 - loss: 4.885685920715332\n",
            "Epoch: 4800 - loss: 5.378597259521484\n",
            "Epoch: 4900 - loss: 3.8585472106933594\n",
            "Epoch: 5000 - loss: 4.472535133361816\n",
            "Epoch: 5100 - loss: 4.321330547332764\n",
            "Epoch: 5200 - loss: 4.046508312225342\n",
            "Epoch: 5300 - loss: 2.8692257404327393\n",
            "Epoch: 5400 - loss: 2.465650796890259\n",
            "Epoch: 5500 - loss: 5.34255313873291\n",
            "Epoch: 5600 - loss: 2.557620048522949\n"
          ]
        }
      ],
      "source": [
        "#net = PINN(input_vars=2, output_vars=1, N=4, heads=6, d_ff=100, p=0, dk=10, dv=10)\n",
        "net = AttentionPINN(d_model=2, d_attn_inner=20, d_attn_output=70, d_output=1)\n",
        "\n",
        "samples_boundary, samples_collocation = 2000, 2000\n",
        "epochs = 8000\n",
        "\n",
        "losses, nets, optimizers = {}, {}, {}\n",
        "\n",
        "net.to(device)\n",
        "optimizers = optim.Adam(net.parameters())\n",
        "losses = []\n",
        "\n",
        "\n",
        "\n",
        "def calc_loss():\n",
        "    u_boundary = net(x_boundary, y_boundary)     \n",
        "    loss_boundary = nn.MSELoss()(u_boundary, target_boundary)\n",
        "\n",
        "    pde_collocation = pde(x_collocation, y_collocation, net)\n",
        "    loss_collocation = nn.MSELoss()(pde_collocation, target_collocation)\n",
        "    \n",
        "    return loss_collocation + loss_boundary\n",
        "\n",
        "def closure():\n",
        "    optimizers.zero_grad()\n",
        "    loss = calc_loss()\n",
        "    loss.backward()\n",
        "    return loss\n",
        "\n",
        "try:\n",
        "  for epoch in range(1, epochs + 1):\n",
        "\n",
        "    # Data generation:\n",
        "    x_boundary = torch.empty(samples_boundary, 1, device=device).uniform_(*x_domain)\n",
        "    y_boundary = torch.empty(samples_boundary, 1, device=device).uniform_(*y_domain)\n",
        "\n",
        "    for n_sample in range(samples_boundary):\n",
        "        set_var = random.choice([0, 1])\n",
        "        x_boundary[n_sample, 0] = random.choice(x_domain) if set_var == 0 else random.uniform(*x_domain)\n",
        "        y_boundary[n_sample, 0] = random.choice(y_domain) if set_var == 1 else random.uniform(*y_domain)\n",
        "\n",
        "    target_boundary = boundary_condition(x_boundary, y_boundary)\n",
        "\n",
        "    x_collocation = torch.empty(samples_collocation, 1, device=device).uniform_(*x_domain).requires_grad_()\n",
        "    y_collocation = torch.empty(samples_collocation, 1, device=device).uniform_(*y_domain).requires_grad_()\n",
        "    target_collocation = torch.zeros(samples_collocation, 1, device=device)\n",
        "\n",
        "    # Training:\n",
        "    optimizers.step(closure)\n",
        "    loss = calc_loss().item()\n",
        "    if epoch % 100 == 0:\n",
        "      print(f'Epoch: {epoch} - loss: {loss}')\n",
        "    losses.append(loss)\n",
        "except KeyboardInterrupt:\n",
        "  pass"
      ]
    },
    {
      "cell_type": "code",
      "execution_count": 207,
      "metadata": {
        "colab": {
          "base_uri": "https://localhost:8080/",
          "height": 549
        },
        "id": "maEk1TQd9ReB",
        "outputId": "4604683d-cb53-47bf-fcdc-7582d4cf6c16"
      },
      "outputs": [
        {
          "data": {
            "image/png": "[encoded data removed]",
            "text/plain": [
              "<Figure size 432x288 with 1 Axes>"
            ]
          },
          "metadata": {
            "needs_background": "light"
          },
          "output_type": "display_data"
        },
        {
          "data": {
            "image/png": "[encoded data removed]",
            "text/plain": [
              "<Figure size 432x288 with 2 Axes>"
            ]
          },
          "metadata": {
            "needs_background": "light"
          },
          "output_type": "display_data"
        }
      ],
      "source": [
        "# Loss:\n",
        "epochs_range = torch.arange(1, len(losses) + 1, 1)\n",
        "plt.plot(epochs_range, losses)\n",
        "\n",
        "plt.tight_layout()\n",
        "plt.show()\n",
        "\n",
        "# Prediction:\n",
        "x = torch.arange(*x_domain, 1e-1)\n",
        "y = torch.arange(*y_domain, 1e-1)\n",
        "grid_x, grid_y = torch.meshgrid(x, y, indexing='ij')\n",
        "input = grid_x.reshape(-1, 1), grid_y.reshape(-1, 1)\n",
        "\n",
        "net.to('cpu')\n",
        "net.eval()\n",
        "u_pred = net(*input).detach()\n",
        "net.to(device)\n",
        "simulation = plt.contourf(grid_x, grid_y, u_pred.reshape_as(grid_x), cmap='Spectral')\n",
        "plt.colorbar(simulation)\n",
        "plt.show()"
      ]
    },
    {
      "cell_type": "code",
      "execution_count": 207,
      "metadata": {
        "id": "y3shAFiL46jT"
      },
      "outputs": [],
      "source": []
    }
  ],
  "metadata": {
    "accelerator": "GPU",
    "colab": {
      "provenance": []
    },
    "gpuClass": "standard",
    "kernelspec": {
      "display_name": "Python 3",
      "language": "python",
      "name": "python3"
    },
    "language_info": {
      "codemirror_mode": {
        "name": "ipython",
        "version": 3
      },
      "file_extension": ".py",
      "mimetype": "text/x-python",
      "name": "python",
      "nbconvert_exporter": "python",
      "pygments_lexer": "ipython3",
      "version": "3.10.2"
    },
    "orig_nbformat": 4,
    "vscode": {
      "interpreter": {
        "hash": "aee8b7b246df8f9039afb4144a1f6fd8d2ca17a180786b69acc140d282b71a49"
      }
    }
  },
  "nbformat": 4,
  "nbformat_minor": 0
}
